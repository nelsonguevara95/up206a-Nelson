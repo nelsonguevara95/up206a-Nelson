{
 "cells": [
  {
   "cell_type": "code",
   "execution_count": 5,
   "id": "c68f496d-aebb-4e6f-a345-6c4fe9174ee3",
   "metadata": {},
   "outputs": [],
   "source": [
    "\n",
    "import pandas as pd\n",
    "import geopandas as gpd\n",
    "from shapely.geometry import Point\n",
    "\n",
    "# Filepath\n",
    "fp = \"transit shapefiles-geocoding.csv\"\n",
    "\n",
    "# Read the data\n",
    "data = pd.read_csv(fp, sep=';')"
   ]
  },
  {
   "cell_type": "code",
   "execution_count": 6,
   "id": "1fc1e88b-1cf9-419a-b624-acd5942a176f",
   "metadata": {},
   "outputs": [
    {
     "data": {
      "text/html": [
       "<div>\n",
       "<style scoped>\n",
       "    .dataframe tbody tr th:only-of-type {\n",
       "        vertical-align: middle;\n",
       "    }\n",
       "\n",
       "    .dataframe tbody tr th {\n",
       "        vertical-align: top;\n",
       "    }\n",
       "\n",
       "    .dataframe thead th {\n",
       "        text-align: right;\n",
       "    }\n",
       "</style>\n",
       "<table border=\"1\" class=\"dataframe\">\n",
       "  <thead>\n",
       "    <tr style=\"text-align: right;\">\n",
       "      <th></th>\n",
       "      <th>Address</th>\n",
       "    </tr>\n",
       "  </thead>\n",
       "  <tbody>\n",
       "    <tr>\n",
       "      <th>0</th>\n",
       "      <td>12776 Foothill Blvd Los Angeles CA 91342</td>\n",
       "    </tr>\n",
       "    <tr>\n",
       "      <th>1</th>\n",
       "      <td>740 E 111th Place Los Angeles CA 90059</td>\n",
       "    </tr>\n",
       "    <tr>\n",
       "      <th>2</th>\n",
       "      <td>800 E 111th Place Los Angeles CA 90059</td>\n",
       "    </tr>\n",
       "    <tr>\n",
       "      <th>3</th>\n",
       "      <td>1950 Washington Blvd Los Angeles CA 90021</td>\n",
       "    </tr>\n",
       "    <tr>\n",
       "      <th>4</th>\n",
       "      <td>1910 Washington Blvd Los Angeles CA 90021</td>\n",
       "    </tr>\n",
       "  </tbody>\n",
       "</table>\n",
       "</div>"
      ],
      "text/plain": [
       "                                     Address\n",
       "0   12776 Foothill Blvd Los Angeles CA 91342\n",
       "1     740 E 111th Place Los Angeles CA 90059\n",
       "2     800 E 111th Place Los Angeles CA 90059\n",
       "3  1950 Washington Blvd Los Angeles CA 90021\n",
       "4  1910 Washington Blvd Los Angeles CA 90021"
      ]
     },
     "execution_count": 6,
     "metadata": {},
     "output_type": "execute_result"
    }
   ],
   "source": [
    "data.head()"
   ]
  },
  {
   "cell_type": "code",
   "execution_count": 8,
   "id": "dd642ed4-d2f6-425b-8035-3d3dbf9acb61",
   "metadata": {},
   "outputs": [
    {
     "data": {
      "text/html": [
       "<div>\n",
       "<style scoped>\n",
       "    .dataframe tbody tr th:only-of-type {\n",
       "        vertical-align: middle;\n",
       "    }\n",
       "\n",
       "    .dataframe tbody tr th {\n",
       "        vertical-align: top;\n",
       "    }\n",
       "\n",
       "    .dataframe thead th {\n",
       "        text-align: right;\n",
       "    }\n",
       "</style>\n",
       "<table border=\"1\" class=\"dataframe\">\n",
       "  <thead>\n",
       "    <tr style=\"text-align: right;\">\n",
       "      <th></th>\n",
       "      <th>geometry</th>\n",
       "      <th>address</th>\n",
       "    </tr>\n",
       "  </thead>\n",
       "  <tbody>\n",
       "    <tr>\n",
       "      <th>0</th>\n",
       "      <td>POINT (-118.41326 34.29154)</td>\n",
       "      <td>12776, Foothill Boulevard, Los Angeles, Los An...</td>\n",
       "    </tr>\n",
       "    <tr>\n",
       "      <th>1</th>\n",
       "      <td>POINT (-118.26211 33.93484)</td>\n",
       "      <td>740, East 111th Place, Green Meadows, Los Ange...</td>\n",
       "    </tr>\n",
       "    <tr>\n",
       "      <th>2</th>\n",
       "      <td>POINT (-118.26321 33.93431)</td>\n",
       "      <td>800, East 111th Place, Green Meadows, Los Ange...</td>\n",
       "    </tr>\n",
       "    <tr>\n",
       "      <th>3</th>\n",
       "      <td>POINT (-118.24109 34.02027)</td>\n",
       "      <td>Washington Boulevard, Nevin, Central-Alameda, ...</td>\n",
       "    </tr>\n",
       "    <tr>\n",
       "      <th>4</th>\n",
       "      <td>POINT (-118.24109 34.02027)</td>\n",
       "      <td>Washington Boulevard, Nevin, Central-Alameda, ...</td>\n",
       "    </tr>\n",
       "  </tbody>\n",
       "</table>\n",
       "</div>"
      ],
      "text/plain": [
       "                      geometry  \\\n",
       "0  POINT (-118.41326 34.29154)   \n",
       "1  POINT (-118.26211 33.93484)   \n",
       "2  POINT (-118.26321 33.93431)   \n",
       "3  POINT (-118.24109 34.02027)   \n",
       "4  POINT (-118.24109 34.02027)   \n",
       "\n",
       "                                             address  \n",
       "0  12776, Foothill Boulevard, Los Angeles, Los An...  \n",
       "1  740, East 111th Place, Green Meadows, Los Ange...  \n",
       "2  800, East 111th Place, Green Meadows, Los Ange...  \n",
       "3  Washington Boulevard, Nevin, Central-Alameda, ...  \n",
       "4  Washington Boulevard, Nevin, Central-Alameda, ...  "
      ]
     },
     "execution_count": 8,
     "metadata": {},
     "output_type": "execute_result"
    }
   ],
   "source": [
    "# Import the geocoding tool and geopy\n",
    "from geopandas.tools import geocode\n",
    "\n",
    "# Geocode addresses with Nominatim backend\n",
    "geo = geocode(data['Address'], provider='nominatim', user_agent='csc_user_ht')\n",
    "geo.head(5)"
   ]
  },
  {
   "cell_type": "code",
   "execution_count": 9,
   "id": "2d7db055-ac05-4cee-a304-890f3d2e4e0b",
   "metadata": {},
   "outputs": [
    {
     "data": {
      "text/html": [
       "<div>\n",
       "<style scoped>\n",
       "    .dataframe tbody tr th:only-of-type {\n",
       "        vertical-align: middle;\n",
       "    }\n",
       "\n",
       "    .dataframe tbody tr th {\n",
       "        vertical-align: top;\n",
       "    }\n",
       "\n",
       "    .dataframe thead th {\n",
       "        text-align: right;\n",
       "    }\n",
       "</style>\n",
       "<table border=\"1\" class=\"dataframe\">\n",
       "  <thead>\n",
       "    <tr style=\"text-align: right;\">\n",
       "      <th></th>\n",
       "      <th>geometry</th>\n",
       "      <th>address</th>\n",
       "      <th>Address</th>\n",
       "    </tr>\n",
       "  </thead>\n",
       "  <tbody>\n",
       "    <tr>\n",
       "      <th>0</th>\n",
       "      <td>POINT (-118.41326 34.29154)</td>\n",
       "      <td>12776, Foothill Boulevard, Los Angeles, Los An...</td>\n",
       "      <td>12776 Foothill Blvd Los Angeles CA 91342</td>\n",
       "    </tr>\n",
       "    <tr>\n",
       "      <th>1</th>\n",
       "      <td>POINT (-118.26211 33.93484)</td>\n",
       "      <td>740, East 111th Place, Green Meadows, Los Ange...</td>\n",
       "      <td>740 E 111th Place Los Angeles CA 90059</td>\n",
       "    </tr>\n",
       "    <tr>\n",
       "      <th>2</th>\n",
       "      <td>POINT (-118.26321 33.93431)</td>\n",
       "      <td>800, East 111th Place, Green Meadows, Los Ange...</td>\n",
       "      <td>800 E 111th Place Los Angeles CA 90059</td>\n",
       "    </tr>\n",
       "    <tr>\n",
       "      <th>3</th>\n",
       "      <td>POINT (-118.24109 34.02027)</td>\n",
       "      <td>Washington Boulevard, Nevin, Central-Alameda, ...</td>\n",
       "      <td>1950 Washington Blvd Los Angeles CA 90021</td>\n",
       "    </tr>\n",
       "    <tr>\n",
       "      <th>4</th>\n",
       "      <td>POINT (-118.24109 34.02027)</td>\n",
       "      <td>Washington Boulevard, Nevin, Central-Alameda, ...</td>\n",
       "      <td>1910 Washington Blvd Los Angeles CA 90021</td>\n",
       "    </tr>\n",
       "  </tbody>\n",
       "</table>\n",
       "</div>"
      ],
      "text/plain": [
       "                      geometry  \\\n",
       "0  POINT (-118.41326 34.29154)   \n",
       "1  POINT (-118.26211 33.93484)   \n",
       "2  POINT (-118.26321 33.93431)   \n",
       "3  POINT (-118.24109 34.02027)   \n",
       "4  POINT (-118.24109 34.02027)   \n",
       "\n",
       "                                             address  \\\n",
       "0  12776, Foothill Boulevard, Los Angeles, Los An...   \n",
       "1  740, East 111th Place, Green Meadows, Los Ange...   \n",
       "2  800, East 111th Place, Green Meadows, Los Ange...   \n",
       "3  Washington Boulevard, Nevin, Central-Alameda, ...   \n",
       "4  Washington Boulevard, Nevin, Central-Alameda, ...   \n",
       "\n",
       "                                     Address  \n",
       "0   12776 Foothill Blvd Los Angeles CA 91342  \n",
       "1     740 E 111th Place Los Angeles CA 90059  \n",
       "2     800 E 111th Place Los Angeles CA 90059  \n",
       "3  1950 Washington Blvd Los Angeles CA 90021  \n",
       "4  1910 Washington Blvd Los Angeles CA 90021  "
      ]
     },
     "execution_count": 9,
     "metadata": {},
     "output_type": "execute_result"
    }
   ],
   "source": [
    "join = geo.join(data)\n",
    "join.head()"
   ]
  },
  {
   "cell_type": "code",
   "execution_count": 10,
   "id": "c9ec0e77-2221-4214-ab03-785418255025",
   "metadata": {},
   "outputs": [
    {
     "data": {
      "text/plain": [
       "geopandas.geodataframe.GeoDataFrame"
      ]
     },
     "execution_count": 10,
     "metadata": {},
     "output_type": "execute_result"
    }
   ],
   "source": [
    "type(join)"
   ]
  },
  {
   "cell_type": "code",
   "execution_count": 13,
   "id": "8245b727-9435-4f9d-bf0d-48f67643f1b1",
   "metadata": {},
   "outputs": [],
   "source": [
    "# Output file path\n",
    "outfp = \"transit shapefiles-geocoding.shp\"\n",
    "\n",
    "# Save to Shapefile\n",
    "join.to_file(outfp)"
   ]
  },
  {
   "cell_type": "code",
   "execution_count": null,
   "id": "678f9ecb-fd4d-4cd2-ae46-9b9ba9b59a16",
   "metadata": {},
   "outputs": [],
   "source": []
  }
 ],
 "metadata": {
  "kernelspec": {
   "display_name": "Python 3 (ipykernel)",
   "language": "python",
   "name": "python3"
  },
  "language_info": {
   "codemirror_mode": {
    "name": "ipython",
    "version": 3
   },
   "file_extension": ".py",
   "mimetype": "text/x-python",
   "name": "python",
   "nbconvert_exporter": "python",
   "pygments_lexer": "ipython3",
   "version": "3.9.6"
  }
 },
 "nbformat": 4,
 "nbformat_minor": 5
}
