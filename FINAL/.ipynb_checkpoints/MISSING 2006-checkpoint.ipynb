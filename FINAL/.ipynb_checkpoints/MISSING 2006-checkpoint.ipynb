{
 "cells": [
  {
   "cell_type": "code",
   "execution_count": 1,
   "id": "4021e78a-f364-46ae-b521-45a3691605b6",
   "metadata": {},
   "outputs": [
    {
     "name": "stderr",
     "output_type": "stream",
     "text": [
      "/opt/conda/lib/python3.9/site-packages/geopandas/_compat.py:106: UserWarning: The Shapely GEOS version (3.9.1-CAPI-1.14.2) is incompatible with the GEOS version PyGEOS was compiled with (3.10.1-CAPI-1.16.0). Conversions between both will be slow.\n",
      "  warnings.warn(\n"
     ]
    }
   ],
   "source": [
    "import pandas as pd\n",
    "import numpy as np\n",
    "import seaborn as sns\n",
    "\n",
    "# the usuals\n",
    "import geopandas as gpd\n",
    "import matplotlib.pyplot as plt\n",
    "\n",
    "import contextily as ctx\n",
    "from sodapy import Socrata\n",
    "\n",
    "\n",
    "# to explore point patterns\n",
    "from pointpats import centrography\n",
    "from matplotlib.patches import Ellipse"
   ]
  },
  {
   "cell_type": "code",
   "execution_count": 2,
   "id": "e7d87505-cf2a-4ef9-8338-ed9e910d3b15",
   "metadata": {},
   "outputs": [],
   "source": [
    "df20 = pd.read_csv (r'Clean Final 2020 Value Data.csv')"
   ]
  },
  {
   "cell_type": "code",
   "execution_count": 3,
   "id": "222a6f4c-9d4f-4dde-8238-84c2f611acf8",
   "metadata": {},
   "outputs": [
    {
     "name": "stdout",
     "output_type": "stream",
     "text": [
      "<class 'pandas.core.frame.DataFrame'>\n",
      "RangeIndex: 20365 entries, 0 to 20364\n",
      "Data columns (total 7 columns):\n",
      " #   Column              Non-Null Count  Dtype  \n",
      "---  ------              --------------  -----  \n",
      " 0   taxratearea_city    20365 non-null  object \n",
      " 1   rollyear            20365 non-null  int64  \n",
      " 2   usecodedescchar1    20365 non-null  object \n",
      " 3   effectiveyearbuilt  20365 non-null  int64  \n",
      " 4   roll_totalvalue     20365 non-null  int64  \n",
      " 5   center_lat          20365 non-null  float64\n",
      " 6   center_lon          20365 non-null  float64\n",
      "dtypes: float64(2), int64(3), object(2)\n",
      "memory usage: 1.1+ MB\n"
     ]
    }
   ],
   "source": [
    "df20.info()"
   ]
  },
  {
   "cell_type": "code",
   "execution_count": 4,
   "id": "3ee1d708-e176-4b22-82d4-d9a5d50cf342",
   "metadata": {},
   "outputs": [],
   "source": [
    "config = {\n",
    "  \"version\": \"v1\",\n",
    "  \"config\": {\n",
    "    \"visState\": {\n",
    "      \"filters\": [\n",
    "        {\n",
    "          \"dataId\": [\n",
    "            \"roll_totalvalue\"\n",
    "          ],\n",
    "          \"id\": \"sreoedtdg\",\n",
    "          \"name\": [\n",
    "            \"arst_date\"\n",
    "          ],\n",
    "          \"type\": \"timeRange\",\n",
    "          \"value\": [\n",
    "            1598918400000,\n",
    "            1601078400000\n",
    "          ],\n",
    "          \"enlarged\": True,\n",
    "          \"plotType\": \"histogram\",\n",
    "          \"yAxis\": None\n",
    "        }\n",
    "      ],\n",
    "      \"layers\": [\n",
    "        {\n",
    "          \"id\": \"y8t676q\",\n",
    "          \"type\": \"grid\",\n",
    "          \"config\": {\n",
    "            \"dataId\": \"roll_totalvalue\",\n",
    "            \"label\": \"Point\",\n",
    "            \"color\": [\n",
    "              34,\n",
    "              63,\n",
    "              154\n",
    "            ],\n",
    "            \"columns\": {\n",
    "              \"lat\": \"lat\",\n",
    "              \"lng\": \"lon\"\n",
    "            },\n",
    "            \"isVisible\": True,\n",
    "            \"visConfig\": {\n",
    "              \"opacity\": 0.8,\n",
    "              \"worldUnitSize\": 0.5,\n",
    "              \"colorRange\": {\n",
    "                \"name\": \"ColorBrewer RdYlGn-6\",\n",
    "                \"type\": \"diverging\",\n",
    "                \"category\": \"ColorBrewer\",\n",
    "                \"colors\": [\n",
    "                  \"#1a9850\",\n",
    "                  \"#91cf60\",\n",
    "                  \"#d9ef8b\",\n",
    "                  \"#fee08b\",\n",
    "                  \"#fc8d59\",\n",
    "                  \"#d73027\"\n",
    "                ],\n",
    "                \"reversed\": True\n",
    "              },\n",
    "              \"coverage\": 1,\n",
    "              \"sizeRange\": [\n",
    "                0,\n",
    "                500\n",
    "              ],\n",
    "              \"percentile\": [\n",
    "                0,\n",
    "                100\n",
    "              ],\n",
    "              \"elevationPercentile\": [\n",
    "                0,\n",
    "                100\n",
    "              ],\n",
    "              \"elevationScale\": 20.9,\n",
    "              \"colorAggregation\": \"count\",\n",
    "              \"sizeAggregation\": \"count\",\n",
    "              \"enable3d\": True\n",
    "            },\n",
    "            \"hidden\": False,\n",
    "            \"textLabel\": [\n",
    "              {\n",
    "                \"field\": None,\n",
    "                \"color\": [\n",
    "                  255,\n",
    "                  255,\n",
    "                  255\n",
    "                ],\n",
    "                \"size\": 18,\n",
    "                \"offset\": [\n",
    "                  0,\n",
    "                  0\n",
    "                ],\n",
    "                \"anchor\": \"start\",\n",
    "                \"alignment\": \"center\"\n",
    "              }\n",
    "            ]\n",
    "          },\n",
    "          \"visualChannels\": {\n",
    "            \"colorField\": None,\n",
    "            \"colorScale\": \"quantize\",\n",
    "            \"sizeField\": None,\n",
    "            \"sizeScale\": \"linear\"\n",
    "          }\n",
    "        }\n",
    "      ],\n",
    "      \"interactionConfig\": {\n",
    "        \"tooltip\": {\n",
    "          \"fieldsToShow\": {\n",
    "            \"roll_totalvalue\": [\n",
    "              {\n",
    "                \"name\": \"arst_date\",\n",
    "                \"format\": None\n",
    "              },\n",
    "              {\n",
    "                \"name\": \"grp_description\",\n",
    "                \"format\": None\n",
    "              },\n",
    "              {\n",
    "                \"name\": \"sex_cd\",\n",
    "                \"format\": None\n",
    "              },\n",
    "              {\n",
    "                \"name\": \"descent_cd\",\n",
    "                \"format\": None\n",
    "              }\n",
    "            ]\n",
    "          },\n",
    "          \"compareMode\": False,\n",
    "          \"compareType\": \"absolute\",\n",
    "          \"enabled\": True\n",
    "        },\n",
    "        \"brush\": {\n",
    "          \"size\": 0.5,\n",
    "          \"enabled\": False\n",
    "        },\n",
    "        \"geocoder\": {\n",
    "          \"enabled\": False\n",
    "        },\n",
    "        \"coordinate\": {\n",
    "          \"enabled\": False\n",
    "        }\n",
    "      },\n",
    "      \"layerBlending\": \"normal\",\n",
    "      \"splitMaps\": [],\n",
    "      \"animationConfig\": {\n",
    "        \"currentTime\": None,\n",
    "        \"speed\": 1\n",
    "      }\n",
    "    },\n",
    "    \"mapState\": {\n",
    "      \"bearing\": 24,\n",
    "      \"dragRotate\": True,\n",
    "      \"latitude\": 33.837184166330836,\n",
    "      \"longitude\": -118.46478962372794,\n",
    "      \"pitch\": 50,\n",
    "      \"zoom\": 9,\n",
    "      \"isSplit\": False\n",
    "    },\n",
    "    \"mapStyle\": {\n",
    "      \"styleType\": \"dark\",\n",
    "      \"topLayerGroups\": {},\n",
    "      \"visibleLayerGroups\": {\n",
    "        \"label\": True,\n",
    "        \"road\": True,\n",
    "        \"border\": False,\n",
    "        \"building\": True,\n",
    "        \"water\": True,\n",
    "        \"land\": True,\n",
    "        \"3d building\": False\n",
    "      },\n",
    "      \"threeDBuildingColor\": [\n",
    "        9.665468314072013,\n",
    "        17.18305478057247,\n",
    "        31.1442867897876\n",
    "      ],\n",
    "      \"mapStyles\": {}\n",
    "    }\n",
    "  }\n",
    "}"
   ]
  },
  {
   "cell_type": "code",
   "execution_count": 5,
   "id": "9a9830d2-727e-4d48-a568-b0e12f204a23",
   "metadata": {},
   "outputs": [
    {
     "name": "stdout",
     "output_type": "stream",
     "text": [
      "User Guide: https://docs.kepler.gl/docs/keplergl-jupyter\n"
     ]
    },
    {
     "data": {
      "application/vnd.jupyter.widget-view+json": {
       "model_id": "c79203cd2f314de6a483840ed0515d2d",
       "version_major": 2,
       "version_minor": 0
      },
      "text/plain": [
       "KeplerGl(config={'version': 'v1', 'config': {'visState': {'filters': [{'dataId': ['roll_totalvalue'], 'id': 's…"
      ]
     },
     "metadata": {},
     "output_type": "display_data"
    }
   ],
   "source": [
    "# kepler map of total valye with config parameters assigned\n",
    "from keplergl import KeplerGl\n",
    "map = KeplerGl(height=400, width=250, data={'df20':df20},config=config)\n",
    "map"
   ]
  },
  {
   "cell_type": "code",
   "execution_count": 7,
   "id": "f1a077c4-ceb9-46bd-aa3d-b5ffcbfcd156",
   "metadata": {},
   "outputs": [],
   "source": [
    "df06 = pd.read_csv (r'Clean Final 2006 Value Data.csv')\n",
    "\n",
    "map.add_data(data=df06,name='2006')"
   ]
  },
  {
   "cell_type": "code",
   "execution_count": 8,
   "id": "eaa7da26-1d3c-49bc-a1ce-be844bf1f8d6",
   "metadata": {},
   "outputs": [
    {
     "name": "stdout",
     "output_type": "stream",
     "text": [
      "Map saved to PERFECTKEPLERCLEAN.html!\n"
     ]
    }
   ],
   "source": [
    "map.save_to_html(file_name='PERFECTKEPLERCLEAN.html',read_only=True)"
   ]
  },
  {
   "cell_type": "code",
   "execution_count": null,
   "id": "00741cb1-5dea-4117-9805-b97eea807823",
   "metadata": {},
   "outputs": [],
   "source": []
  }
 ],
 "metadata": {
  "kernelspec": {
   "display_name": "Python 3 (ipykernel)",
   "language": "python",
   "name": "python3"
  },
  "language_info": {
   "codemirror_mode": {
    "name": "ipython",
    "version": 3
   },
   "file_extension": ".py",
   "mimetype": "text/x-python",
   "name": "python",
   "nbconvert_exporter": "python",
   "pygments_lexer": "ipython3",
   "version": "3.9.6"
  }
 },
 "nbformat": 4,
 "nbformat_minor": 5
}
