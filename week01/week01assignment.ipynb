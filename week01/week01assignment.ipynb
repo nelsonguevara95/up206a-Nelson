{
 "cells": [
  {
   "cell_type": "markdown",
   "id": "169e3fc7-2c61-407a-9a91-dc174093fa42",
   "metadata": {},
   "source": [
    "# COVID-19 Data in LA Neighborhoods"
   ]
  },
  {
   "cell_type": "markdown",
   "id": "cf8cb2ec-f715-4990-9fbd-4b747ecacde3",
   "metadata": {},
   "source": [
    "## Introduction"
   ]
  },
  {
   "cell_type": "markdown",
   "id": "b4727c0e-03b3-48aa-8fc7-a0491dd2959d",
   "metadata": {},
   "source": [
    "For this assignment I want to look at data that shows me how differently COVID-19 has impacted various LA neighborhoods. I searched for data in the LA geohub portal and was able to find this data set that has data for a number of neighborhoods in the city of LA. This data includes information about cases, case rates, deaths, and death rates among other columns of data. I am particulary interested in looking how the number of deaths vary throughout the city of LA."
   ]
  },
  {
   "cell_type": "markdown",
   "id": "07a537ad-9a0f-48a2-bc6e-0cb6d1a23635",
   "metadata": {},
   "source": [
    "## Data Exploration"
   ]
  },
  {
   "cell_type": "markdown",
   "id": "09727614-965b-43b1-b6d0-814d0f503879",
   "metadata": {},
   "source": [
    "**Step 1:** I begin by importing the geopandas module into my notebook so that I have the ability to create a map later if I need to."
   ]
  },
  {
   "cell_type": "code",
   "execution_count": 2,
   "id": "8a9bbf4b-4293-4487-a179-66ceef9023d7",
   "metadata": {},
   "outputs": [],
   "source": [
    "import geopandas as gpd"
   ]
  },
  {
   "cell_type": "markdown",
   "id": "6310e714-8d8e-471f-839a-63eb75be4ff9",
   "metadata": {},
   "source": [
    "**Step 2:** Now, I can import my data into my notebook."
   ]
  },
  {
   "cell_type": "code",
   "execution_count": 3,
   "id": "dc6c5997-50c1-4fba-ac97-af3f3d1a5431",
   "metadata": {},
   "outputs": [],
   "source": [
    "covid19 = gpd.read_file('data/COVID19_by_Neighborhood.geojson')"
   ]
  },
  {
   "cell_type": "markdown",
   "id": "b479e59e-ce21-410d-a3ff-d83d1350670a",
   "metadata": {},
   "source": [
    "**Step 3:** I have imported my data and I now want to see how many rows and columns I have. I will run the *.shape* command to get this information."
   ]
  },
  {
   "cell_type": "code",
   "execution_count": 3,
   "id": "fb0393cd-5812-48e8-9dbc-e2303feccdb3",
   "metadata": {},
   "outputs": [
    {
     "data": {
      "text/plain": [
       "(141, 14)"
      ]
     },
     "execution_count": 3,
     "metadata": {},
     "output_type": "execute_result"
    }
   ],
   "source": [
    "covid19.shape"
   ]
  },
  {
   "cell_type": "markdown",
   "id": "e8f32dba-2fc5-4505-ace0-962aef492743",
   "metadata": {},
   "source": [
    "**Step 4:** I now want to see more information about my data frame, so I will now input the command *.info( )*. This will provide me with information about the columns, how many non-null components I have, and what is the dtype for each column in my data set."
   ]
  },
  {
   "cell_type": "code",
   "execution_count": 4,
   "id": "51861326-3996-419e-83f2-ec927077f731",
   "metadata": {},
   "outputs": [
    {
     "name": "stdout",
     "output_type": "stream",
     "text": [
      "<class 'geopandas.geodataframe.GeoDataFrame'>\n",
      "RangeIndex: 141 entries, 0 to 140\n",
      "Data columns (total 14 columns):\n",
      " #   Column         Non-Null Count  Dtype   \n",
      "---  ------         --------------  -----   \n",
      " 0   FID            141 non-null    int64   \n",
      " 1   COMTY_NAME     141 non-null    object  \n",
      " 2   CERT           141 non-null    object  \n",
      " 3   Shape_Leng     141 non-null    float64 \n",
      " 4   Shape_Area     141 non-null    float64 \n",
      " 5   location       141 non-null    object  \n",
      " 6   cases          141 non-null    int64   \n",
      " 7   case_rate      141 non-null    int64   \n",
      " 8   deaths         141 non-null    int64   \n",
      " 9   death_rate     141 non-null    int64   \n",
      " 10  Date           141 non-null    object  \n",
      " 11  Shape__Area    141 non-null    float64 \n",
      " 12  Shape__Length  141 non-null    float64 \n",
      " 13  geometry       141 non-null    geometry\n",
      "dtypes: float64(4), geometry(1), int64(5), object(4)\n",
      "memory usage: 15.5+ KB\n"
     ]
    }
   ],
   "source": [
    "covid19.info()"
   ]
  },
  {
   "cell_type": "markdown",
   "id": "b5eddf70-2d01-41cf-9fe4-d5fc866f19f4",
   "metadata": {},
   "source": [
    "**Step 5:** I can begin to generate some samples. I will generate the first 5 rows of data by using the *.head( )* command."
   ]
  },
  {
   "cell_type": "code",
   "execution_count": 5,
   "id": "df88b63f-cf12-4d72-abe3-9c27969b35b3",
   "metadata": {},
   "outputs": [
    {
     "data": {
      "text/html": [
       "<div>\n",
       "<style scoped>\n",
       "    .dataframe tbody tr th:only-of-type {\n",
       "        vertical-align: middle;\n",
       "    }\n",
       "\n",
       "    .dataframe tbody tr th {\n",
       "        vertical-align: top;\n",
       "    }\n",
       "\n",
       "    .dataframe thead th {\n",
       "        text-align: right;\n",
       "    }\n",
       "</style>\n",
       "<table border=\"1\" class=\"dataframe\">\n",
       "  <thead>\n",
       "    <tr style=\"text-align: right;\">\n",
       "      <th></th>\n",
       "      <th>FID</th>\n",
       "      <th>COMTY_NAME</th>\n",
       "      <th>CERT</th>\n",
       "      <th>Shape_Leng</th>\n",
       "      <th>Shape_Area</th>\n",
       "      <th>location</th>\n",
       "      <th>cases</th>\n",
       "      <th>case_rate</th>\n",
       "      <th>deaths</th>\n",
       "      <th>death_rate</th>\n",
       "      <th>Date</th>\n",
       "      <th>Shape__Area</th>\n",
       "      <th>Shape__Length</th>\n",
       "      <th>geometry</th>\n",
       "    </tr>\n",
       "  </thead>\n",
       "  <tbody>\n",
       "    <tr>\n",
       "      <th>0</th>\n",
       "      <td>1</td>\n",
       "      <td>SYLMAR</td>\n",
       "      <td>yes</td>\n",
       "      <td>111633.753407</td>\n",
       "      <td>3.404014e+08</td>\n",
       "      <td>SYLMAR</td>\n",
       "      <td>14535</td>\n",
       "      <td>17640</td>\n",
       "      <td>184</td>\n",
       "      <td>223</td>\n",
       "      <td>2021-01-30</td>\n",
       "      <td>4.647324e+07</td>\n",
       "      <td>41236.137343</td>\n",
       "      <td>POLYGON ((-118.50655 34.33524, -118.50576 34.3...</td>\n",
       "    </tr>\n",
       "    <tr>\n",
       "      <th>1</th>\n",
       "      <td>2</td>\n",
       "      <td>GRANADA HILLS</td>\n",
       "      <td>yes</td>\n",
       "      <td>89564.685903</td>\n",
       "      <td>4.264128e+08</td>\n",
       "      <td>GRANADA HILLS</td>\n",
       "      <td>5745</td>\n",
       "      <td>9873</td>\n",
       "      <td>137</td>\n",
       "      <td>235</td>\n",
       "      <td>2021-01-30</td>\n",
       "      <td>5.818514e+07</td>\n",
       "      <td>33094.502125</td>\n",
       "      <td>POLYGON ((-118.54219 34.29860, -118.54084 34.2...</td>\n",
       "    </tr>\n",
       "    <tr>\n",
       "      <th>2</th>\n",
       "      <td>3</td>\n",
       "      <td>PORTER RANCH</td>\n",
       "      <td>yes</td>\n",
       "      <td>73616.951350</td>\n",
       "      <td>2.267371e+08</td>\n",
       "      <td>PORTER RANCH</td>\n",
       "      <td>2140</td>\n",
       "      <td>6013</td>\n",
       "      <td>23</td>\n",
       "      <td>65</td>\n",
       "      <td>2021-01-30</td>\n",
       "      <td>3.093173e+07</td>\n",
       "      <td>27183.552463</td>\n",
       "      <td>POLYGON ((-118.59618 34.27462, -118.59377 34.2...</td>\n",
       "    </tr>\n",
       "    <tr>\n",
       "      <th>3</th>\n",
       "      <td>4</td>\n",
       "      <td>LAKEVIEW TERRACE</td>\n",
       "      <td>yes</td>\n",
       "      <td>75477.956189</td>\n",
       "      <td>1.448471e+08</td>\n",
       "      <td>LAKEVIEW TERRACE</td>\n",
       "      <td>2116</td>\n",
       "      <td>16112</td>\n",
       "      <td>30</td>\n",
       "      <td>228</td>\n",
       "      <td>2021-01-30</td>\n",
       "      <td>1.975813e+07</td>\n",
       "      <td>27863.458449</td>\n",
       "      <td>POLYGON ((-118.40834 34.28671, -118.40755 34.2...</td>\n",
       "    </tr>\n",
       "    <tr>\n",
       "      <th>4</th>\n",
       "      <td>5</td>\n",
       "      <td>MISSION HILLS</td>\n",
       "      <td>yes</td>\n",
       "      <td>50728.509850</td>\n",
       "      <td>1.061586e+08</td>\n",
       "      <td>MISSION HILLS</td>\n",
       "      <td>3848</td>\n",
       "      <td>15951</td>\n",
       "      <td>96</td>\n",
       "      <td>398</td>\n",
       "      <td>2021-01-30</td>\n",
       "      <td>1.447757e+07</td>\n",
       "      <td>18746.395093</td>\n",
       "      <td>POLYGON ((-118.47067 34.29432, -118.46554 34.2...</td>\n",
       "    </tr>\n",
       "  </tbody>\n",
       "</table>\n",
       "</div>"
      ],
      "text/plain": [
       "   FID        COMTY_NAME CERT     Shape_Leng    Shape_Area          location  \\\n",
       "0    1            SYLMAR  yes  111633.753407  3.404014e+08            SYLMAR   \n",
       "1    2     GRANADA HILLS  yes   89564.685903  4.264128e+08     GRANADA HILLS   \n",
       "2    3      PORTER RANCH  yes   73616.951350  2.267371e+08      PORTER RANCH   \n",
       "3    4  LAKEVIEW TERRACE  yes   75477.956189  1.448471e+08  LAKEVIEW TERRACE   \n",
       "4    5     MISSION HILLS  yes   50728.509850  1.061586e+08     MISSION HILLS   \n",
       "\n",
       "   cases  case_rate  deaths  death_rate        Date   Shape__Area  \\\n",
       "0  14535      17640     184         223  2021-01-30  4.647324e+07   \n",
       "1   5745       9873     137         235  2021-01-30  5.818514e+07   \n",
       "2   2140       6013      23          65  2021-01-30  3.093173e+07   \n",
       "3   2116      16112      30         228  2021-01-30  1.975813e+07   \n",
       "4   3848      15951      96         398  2021-01-30  1.447757e+07   \n",
       "\n",
       "   Shape__Length                                           geometry  \n",
       "0   41236.137343  POLYGON ((-118.50655 34.33524, -118.50576 34.3...  \n",
       "1   33094.502125  POLYGON ((-118.54219 34.29860, -118.54084 34.2...  \n",
       "2   27183.552463  POLYGON ((-118.59618 34.27462, -118.59377 34.2...  \n",
       "3   27863.458449  POLYGON ((-118.40834 34.28671, -118.40755 34.2...  \n",
       "4   18746.395093  POLYGON ((-118.47067 34.29432, -118.46554 34.2...  "
      ]
     },
     "execution_count": 5,
     "metadata": {},
     "output_type": "execute_result"
    }
   ],
   "source": [
    "covid19.head()"
   ]
  },
  {
   "cell_type": "markdown",
   "id": "f50ab716-76ff-4ccc-a41d-964f852d6e53",
   "metadata": {},
   "source": [
    "**Step 6:** I can also generate the last 5 rows of data by running the *.tail()* command."
   ]
  },
  {
   "cell_type": "code",
   "execution_count": 6,
   "id": "c874706d-1283-4ed5-89b8-dede1af79db5",
   "metadata": {},
   "outputs": [
    {
     "data": {
      "text/html": [
       "<div>\n",
       "<style scoped>\n",
       "    .dataframe tbody tr th:only-of-type {\n",
       "        vertical-align: middle;\n",
       "    }\n",
       "\n",
       "    .dataframe tbody tr th {\n",
       "        vertical-align: top;\n",
       "    }\n",
       "\n",
       "    .dataframe thead th {\n",
       "        text-align: right;\n",
       "    }\n",
       "</style>\n",
       "<table border=\"1\" class=\"dataframe\">\n",
       "  <thead>\n",
       "    <tr style=\"text-align: right;\">\n",
       "      <th></th>\n",
       "      <th>FID</th>\n",
       "      <th>COMTY_NAME</th>\n",
       "      <th>CERT</th>\n",
       "      <th>Shape_Leng</th>\n",
       "      <th>Shape_Area</th>\n",
       "      <th>location</th>\n",
       "      <th>cases</th>\n",
       "      <th>case_rate</th>\n",
       "      <th>deaths</th>\n",
       "      <th>death_rate</th>\n",
       "      <th>Date</th>\n",
       "      <th>Shape__Area</th>\n",
       "      <th>Shape__Length</th>\n",
       "      <th>geometry</th>\n",
       "    </tr>\n",
       "  </thead>\n",
       "  <tbody>\n",
       "    <tr>\n",
       "      <th>136</th>\n",
       "      <td>137</td>\n",
       "      <td>RESEDA RANCH</td>\n",
       "      <td>yes</td>\n",
       "      <td>18708.731569</td>\n",
       "      <td>1.451375e+07</td>\n",
       "      <td>RESEDA RANCH</td>\n",
       "      <td>577</td>\n",
       "      <td>12446</td>\n",
       "      <td>2</td>\n",
       "      <td>43</td>\n",
       "      <td>2021-01-30</td>\n",
       "      <td>1.976856e+06</td>\n",
       "      <td>6902.338968</td>\n",
       "      <td>POLYGON ((-118.56227 34.21558, -118.56225 34.2...</td>\n",
       "    </tr>\n",
       "    <tr>\n",
       "      <th>137</th>\n",
       "      <td>138</td>\n",
       "      <td>HARBOR PINES</td>\n",
       "      <td>yes</td>\n",
       "      <td>10876.810441</td>\n",
       "      <td>6.269908e+06</td>\n",
       "      <td>HARBOR PINES</td>\n",
       "      <td>146</td>\n",
       "      <td>6061</td>\n",
       "      <td>0</td>\n",
       "      <td>0</td>\n",
       "      <td>2021-01-30</td>\n",
       "      <td>8.452589e+05</td>\n",
       "      <td>3991.750245</td>\n",
       "      <td>POLYGON ((-118.30778 33.77926, -118.30787 33.7...</td>\n",
       "    </tr>\n",
       "    <tr>\n",
       "      <th>138</th>\n",
       "      <td>139</td>\n",
       "      <td>SYCAMORE SQUARE</td>\n",
       "      <td>yes</td>\n",
       "      <td>6644.151958</td>\n",
       "      <td>2.623158e+06</td>\n",
       "      <td>SYCAMORE SQUARE</td>\n",
       "      <td>26</td>\n",
       "      <td>4019</td>\n",
       "      <td>2</td>\n",
       "      <td>309</td>\n",
       "      <td>2021-01-30</td>\n",
       "      <td>3.559718e+05</td>\n",
       "      <td>2447.865365</td>\n",
       "      <td>POLYGON ((-118.34584 34.05721, -118.34589 34.0...</td>\n",
       "    </tr>\n",
       "    <tr>\n",
       "      <th>139</th>\n",
       "      <td>140</td>\n",
       "      <td>BROOKSIDE</td>\n",
       "      <td>yes</td>\n",
       "      <td>10335.543446</td>\n",
       "      <td>5.858064e+06</td>\n",
       "      <td>BROOKSIDE</td>\n",
       "      <td>30</td>\n",
       "      <td>5164</td>\n",
       "      <td>2</td>\n",
       "      <td>344</td>\n",
       "      <td>2021-01-30</td>\n",
       "      <td>7.949481e+05</td>\n",
       "      <td>3805.238012</td>\n",
       "      <td>POLYGON ((-118.34062 34.05713, -118.33874 34.0...</td>\n",
       "    </tr>\n",
       "    <tr>\n",
       "      <th>140</th>\n",
       "      <td>141</td>\n",
       "      <td>VIEW HEIGHTS</td>\n",
       "      <td>Yes</td>\n",
       "      <td>9976.486406</td>\n",
       "      <td>6.366350e+06</td>\n",
       "      <td>VIEW HEIGHTS</td>\n",
       "      <td>205</td>\n",
       "      <td>5550</td>\n",
       "      <td>4</td>\n",
       "      <td>108</td>\n",
       "      <td>2021-01-30</td>\n",
       "      <td>8.624123e+05</td>\n",
       "      <td>3672.727579</td>\n",
       "      <td>POLYGON ((-118.35001 33.98167, -118.35001 33.9...</td>\n",
       "    </tr>\n",
       "  </tbody>\n",
       "</table>\n",
       "</div>"
      ],
      "text/plain": [
       "     FID       COMTY_NAME CERT    Shape_Leng    Shape_Area         location  \\\n",
       "136  137     RESEDA RANCH  yes  18708.731569  1.451375e+07     RESEDA RANCH   \n",
       "137  138     HARBOR PINES  yes  10876.810441  6.269908e+06     HARBOR PINES   \n",
       "138  139  SYCAMORE SQUARE  yes   6644.151958  2.623158e+06  SYCAMORE SQUARE   \n",
       "139  140        BROOKSIDE  yes  10335.543446  5.858064e+06        BROOKSIDE   \n",
       "140  141     VIEW HEIGHTS  Yes   9976.486406  6.366350e+06     VIEW HEIGHTS   \n",
       "\n",
       "     cases  case_rate  deaths  death_rate        Date   Shape__Area  \\\n",
       "136    577      12446       2          43  2021-01-30  1.976856e+06   \n",
       "137    146       6061       0           0  2021-01-30  8.452589e+05   \n",
       "138     26       4019       2         309  2021-01-30  3.559718e+05   \n",
       "139     30       5164       2         344  2021-01-30  7.949481e+05   \n",
       "140    205       5550       4         108  2021-01-30  8.624123e+05   \n",
       "\n",
       "     Shape__Length                                           geometry  \n",
       "136    6902.338968  POLYGON ((-118.56227 34.21558, -118.56225 34.2...  \n",
       "137    3991.750245  POLYGON ((-118.30778 33.77926, -118.30787 33.7...  \n",
       "138    2447.865365  POLYGON ((-118.34584 34.05721, -118.34589 34.0...  \n",
       "139    3805.238012  POLYGON ((-118.34062 34.05713, -118.33874 34.0...  \n",
       "140    3672.727579  POLYGON ((-118.35001 33.98167, -118.35001 33.9...  "
      ]
     },
     "execution_count": 6,
     "metadata": {},
     "output_type": "execute_result"
    }
   ],
   "source": [
    "covid19.tail()"
   ]
  },
  {
   "cell_type": "markdown",
   "id": "2cf7779d-2f62-46ca-b8bb-54046f8d6581",
   "metadata": {},
   "source": [
    "**Step 7:** I can also plot the current data to visualize the extent of what parts of LA are covered in this data. I do this by running the *.plot( )* command. When I run it, I can see that mostly the entire city of LA is included in this data."
   ]
  },
  {
   "cell_type": "code",
   "execution_count": 7,
   "id": "5b082b19-1df2-4bc7-aa97-72efe452f215",
   "metadata": {},
   "outputs": [
    {
     "data": {
      "text/plain": [
       "<AxesSubplot:>"
      ]
     },
     "execution_count": 7,
     "metadata": {},
     "output_type": "execute_result"
    },
    {
     "data": {
      "image/png": "[encoded data removed]",
      "text/plain": [
       "<Figure size 432x288 with 1 Axes>"
      ]
     },
     "metadata": {
      "needs_background": "light"
     },
     "output_type": "display_data"
    }
   ],
   "source": [
    "covid19.plot()"
   ]
  },
  {
   "cell_type": "markdown",
   "id": "770a283d-1d50-4c10-96d4-be5b519b7cb1",
   "metadata": {},
   "source": [
    "**Step 8:** Now I can begin digging into the data and bringing to focus what I am mostly interested in. For the purpose of this assignment, I will be looking closely at number of deaths per location. I begin by running the *.columns.to_list( )* command so that I can see what the columns are named and search for the columns I want to focus on."
   ]
  },
  {
   "cell_type": "code",
   "execution_count": 9,
   "id": "eb5d5a58-0cb0-4406-aee9-c7e81a64bf17",
   "metadata": {},
   "outputs": [
    {
     "data": {
      "text/plain": [
       "['FID',\n",
       " 'COMTY_NAME',\n",
       " 'CERT',\n",
       " 'Shape_Leng',\n",
       " 'Shape_Area',\n",
       " 'location',\n",
       " 'cases',\n",
       " 'case_rate',\n",
       " 'deaths',\n",
       " 'death_rate',\n",
       " 'Date',\n",
       " 'Shape__Area',\n",
       " 'Shape__Length',\n",
       " 'geometry']"
      ]
     },
     "execution_count": 9,
     "metadata": {},
     "output_type": "execute_result"
    }
   ],
   "source": [
    "covid19.columns.to_list()"
   ]
  },
  {
   "cell_type": "markdown",
   "id": "9061639b-bd3c-4131-a1e5-b278cec3d9ea",
   "metadata": {},
   "source": [
    "- I have picked out the columns 'location' and 'deaths' so I will individually generate these columns in the cells below."
   ]
  },
  {
   "cell_type": "code",
   "execution_count": 77,
   "id": "9b927965-40d5-4d29-bc74-9961850250d7",
   "metadata": {},
   "outputs": [
    {
     "data": {
      "text/plain": [
       "0                SYLMAR\n",
       "1         GRANADA HILLS\n",
       "2          PORTER RANCH\n",
       "3      LAKEVIEW TERRACE\n",
       "4         MISSION HILLS\n",
       "             ...       \n",
       "136        RESEDA RANCH\n",
       "137        HARBOR PINES\n",
       "138     SYCAMORE SQUARE\n",
       "139           BROOKSIDE\n",
       "140        VIEW HEIGHTS\n",
       "Name: location, Length: 141, dtype: object"
      ]
     },
     "execution_count": 77,
     "metadata": {},
     "output_type": "execute_result"
    }
   ],
   "source": [
    "covid19['location']"
   ]
  },
  {
   "cell_type": "code",
   "execution_count": 78,
   "id": "e55e93c8-2b1c-4b31-a854-0c61523f54dd",
   "metadata": {},
   "outputs": [
    {
     "data": {
      "text/plain": [
       "0      184\n",
       "1      137\n",
       "2       23\n",
       "3       30\n",
       "4       96\n",
       "      ... \n",
       "136      2\n",
       "137      0\n",
       "138      2\n",
       "139      2\n",
       "140      4\n",
       "Name: deaths, Length: 141, dtype: int64"
      ]
     },
     "execution_count": 78,
     "metadata": {},
     "output_type": "execute_result"
    }
   ],
   "source": [
    "covid19['deaths']"
   ]
  },
  {
   "cell_type": "markdown",
   "id": "70f6be9d-1b56-4163-b81b-3917c90cdd5e",
   "metadata": {},
   "source": [
    "- I also want to see how many times each location appears in the data so I will also run the *.value_counts()* command."
   ]
  },
  {
   "cell_type": "code",
   "execution_count": 80,
   "id": "7d05cc95-e49d-44c0-9dcb-90dd8b352132",
   "metadata": {},
   "outputs": [
    {
     "data": {
      "text/plain": [
       "HYDE PARK             2\n",
       "TEMPLE-BEAUDRY        2\n",
       "CLOVERDALE/COCHRAN    1\n",
       "FAIRCREST HEIGHTS     1\n",
       "REYNIER VILLAGE       1\n",
       "                     ..\n",
       "BEL AIR               1\n",
       "BRENTWOOD             1\n",
       "PACIFIC PALISADES     1\n",
       "BEVERLY CREST         1\n",
       "VIEW HEIGHTS          1\n",
       "Name: location, Length: 139, dtype: int64"
      ]
     },
     "execution_count": 80,
     "metadata": {},
     "output_type": "execute_result"
    }
   ],
   "source": [
    "covid19['location'].value_counts()"
   ]
  },
  {
   "cell_type": "markdown",
   "id": "3d99f23b-ff4f-410d-9710-c9acc8c88b3e",
   "metadata": {},
   "source": [
    "- For the most part each neighborhood only appears once with the exception of Hyde Park and Temple-Beaudry."
   ]
  },
  {
   "cell_type": "markdown",
   "id": "fe3d10a8-ffe1-47f8-a153-3189e7899eea",
   "metadata": {},
   "source": [
    "## Trimming the Data"
   ]
  },
  {
   "cell_type": "markdown",
   "id": "b3abbea8-b53c-423e-a23e-324a03529d03",
   "metadata": {
    "tags": []
   },
   "source": [
    "**Step 9:** Now that I have explored my data and seen the value counts for the data I am interested in I will create a graph to begin to visualize this data. For this example, I will use the total number of deaths in each neighborhood. First, I will trim my data frame using by creating the 'desired_columns varaible' so that it displays locations, deaths, and geometry. "
   ]
  },
  {
   "cell_type": "code",
   "execution_count": 4,
   "id": "269a2725-4859-4105-ba94-323b8cb71166",
   "metadata": {},
   "outputs": [
    {
     "data": {
      "text/html": [
       "<div>\n",
       "<style scoped>\n",
       "    .dataframe tbody tr th:only-of-type {\n",
       "        vertical-align: middle;\n",
       "    }\n",
       "\n",
       "    .dataframe tbody tr th {\n",
       "        vertical-align: top;\n",
       "    }\n",
       "\n",
       "    .dataframe thead th {\n",
       "        text-align: right;\n",
       "    }\n",
       "</style>\n",
       "<table border=\"1\" class=\"dataframe\">\n",
       "  <thead>\n",
       "    <tr style=\"text-align: right;\">\n",
       "      <th></th>\n",
       "      <th>location</th>\n",
       "      <th>deaths</th>\n",
       "      <th>geometry</th>\n",
       "    </tr>\n",
       "  </thead>\n",
       "  <tbody>\n",
       "    <tr>\n",
       "      <th>0</th>\n",
       "      <td>SYLMAR</td>\n",
       "      <td>184</td>\n",
       "      <td>POLYGON ((-118.50655 34.33524, -118.50576 34.3...</td>\n",
       "    </tr>\n",
       "    <tr>\n",
       "      <th>1</th>\n",
       "      <td>GRANADA HILLS</td>\n",
       "      <td>137</td>\n",
       "      <td>POLYGON ((-118.54219 34.29860, -118.54084 34.2...</td>\n",
       "    </tr>\n",
       "    <tr>\n",
       "      <th>2</th>\n",
       "      <td>PORTER RANCH</td>\n",
       "      <td>23</td>\n",
       "      <td>POLYGON ((-118.59618 34.27462, -118.59377 34.2...</td>\n",
       "    </tr>\n",
       "    <tr>\n",
       "      <th>3</th>\n",
       "      <td>LAKEVIEW TERRACE</td>\n",
       "      <td>30</td>\n",
       "      <td>POLYGON ((-118.40834 34.28671, -118.40755 34.2...</td>\n",
       "    </tr>\n",
       "    <tr>\n",
       "      <th>4</th>\n",
       "      <td>MISSION HILLS</td>\n",
       "      <td>96</td>\n",
       "      <td>POLYGON ((-118.47067 34.29432, -118.46554 34.2...</td>\n",
       "    </tr>\n",
       "    <tr>\n",
       "      <th>...</th>\n",
       "      <td>...</td>\n",
       "      <td>...</td>\n",
       "      <td>...</td>\n",
       "    </tr>\n",
       "    <tr>\n",
       "      <th>136</th>\n",
       "      <td>RESEDA RANCH</td>\n",
       "      <td>2</td>\n",
       "      <td>POLYGON ((-118.56227 34.21558, -118.56225 34.2...</td>\n",
       "    </tr>\n",
       "    <tr>\n",
       "      <th>137</th>\n",
       "      <td>HARBOR PINES</td>\n",
       "      <td>0</td>\n",
       "      <td>POLYGON ((-118.30778 33.77926, -118.30787 33.7...</td>\n",
       "    </tr>\n",
       "    <tr>\n",
       "      <th>138</th>\n",
       "      <td>SYCAMORE SQUARE</td>\n",
       "      <td>2</td>\n",
       "      <td>POLYGON ((-118.34584 34.05721, -118.34589 34.0...</td>\n",
       "    </tr>\n",
       "    <tr>\n",
       "      <th>139</th>\n",
       "      <td>BROOKSIDE</td>\n",
       "      <td>2</td>\n",
       "      <td>POLYGON ((-118.34062 34.05713, -118.33874 34.0...</td>\n",
       "    </tr>\n",
       "    <tr>\n",
       "      <th>140</th>\n",
       "      <td>VIEW HEIGHTS</td>\n",
       "      <td>4</td>\n",
       "      <td>POLYGON ((-118.35001 33.98167, -118.35001 33.9...</td>\n",
       "    </tr>\n",
       "  </tbody>\n",
       "</table>\n",
       "<p>141 rows × 3 columns</p>\n",
       "</div>"
      ],
      "text/plain": [
       "             location  deaths  \\\n",
       "0              SYLMAR     184   \n",
       "1       GRANADA HILLS     137   \n",
       "2        PORTER RANCH      23   \n",
       "3    LAKEVIEW TERRACE      30   \n",
       "4       MISSION HILLS      96   \n",
       "..                ...     ...   \n",
       "136      RESEDA RANCH       2   \n",
       "137      HARBOR PINES       0   \n",
       "138   SYCAMORE SQUARE       2   \n",
       "139         BROOKSIDE       2   \n",
       "140      VIEW HEIGHTS       4   \n",
       "\n",
       "                                              geometry  \n",
       "0    POLYGON ((-118.50655 34.33524, -118.50576 34.3...  \n",
       "1    POLYGON ((-118.54219 34.29860, -118.54084 34.2...  \n",
       "2    POLYGON ((-118.59618 34.27462, -118.59377 34.2...  \n",
       "3    POLYGON ((-118.40834 34.28671, -118.40755 34.2...  \n",
       "4    POLYGON ((-118.47067 34.29432, -118.46554 34.2...  \n",
       "..                                                 ...  \n",
       "136  POLYGON ((-118.56227 34.21558, -118.56225 34.2...  \n",
       "137  POLYGON ((-118.30778 33.77926, -118.30787 33.7...  \n",
       "138  POLYGON ((-118.34584 34.05721, -118.34589 34.0...  \n",
       "139  POLYGON ((-118.34062 34.05713, -118.33874 34.0...  \n",
       "140  POLYGON ((-118.35001 33.98167, -118.35001 33.9...  \n",
       "\n",
       "[141 rows x 3 columns]"
      ]
     },
     "execution_count": 4,
     "metadata": {},
     "output_type": "execute_result"
    }
   ],
   "source": [
    "desired_columns = ['location','deaths','geometry']\n",
    "covid19[desired_columns]"
   ]
  },
  {
   "cell_type": "markdown",
   "id": "be71cb96-761f-4e17-9e07-e18a291b485e",
   "metadata": {},
   "source": [
    "**Step 10:** I then save my new data frame under the new variable 'covid19_trimmed' by creating a copy of the desired columns I generated in the step before."
   ]
  },
  {
   "cell_type": "code",
   "execution_count": 5,
   "id": "3cfb03b3-ffac-40e2-8d63-79a08bca61a1",
   "metadata": {},
   "outputs": [
    {
     "data": {
      "text/html": [
       "<div>\n",
       "<style scoped>\n",
       "    .dataframe tbody tr th:only-of-type {\n",
       "        vertical-align: middle;\n",
       "    }\n",
       "\n",
       "    .dataframe tbody tr th {\n",
       "        vertical-align: top;\n",
       "    }\n",
       "\n",
       "    .dataframe thead th {\n",
       "        text-align: right;\n",
       "    }\n",
       "</style>\n",
       "<table border=\"1\" class=\"dataframe\">\n",
       "  <thead>\n",
       "    <tr style=\"text-align: right;\">\n",
       "      <th></th>\n",
       "      <th>location</th>\n",
       "      <th>deaths</th>\n",
       "      <th>geometry</th>\n",
       "    </tr>\n",
       "  </thead>\n",
       "  <tbody>\n",
       "    <tr>\n",
       "      <th>0</th>\n",
       "      <td>SYLMAR</td>\n",
       "      <td>184</td>\n",
       "      <td>POLYGON ((-118.50655 34.33524, -118.50576 34.3...</td>\n",
       "    </tr>\n",
       "    <tr>\n",
       "      <th>1</th>\n",
       "      <td>GRANADA HILLS</td>\n",
       "      <td>137</td>\n",
       "      <td>POLYGON ((-118.54219 34.29860, -118.54084 34.2...</td>\n",
       "    </tr>\n",
       "    <tr>\n",
       "      <th>2</th>\n",
       "      <td>PORTER RANCH</td>\n",
       "      <td>23</td>\n",
       "      <td>POLYGON ((-118.59618 34.27462, -118.59377 34.2...</td>\n",
       "    </tr>\n",
       "    <tr>\n",
       "      <th>3</th>\n",
       "      <td>LAKEVIEW TERRACE</td>\n",
       "      <td>30</td>\n",
       "      <td>POLYGON ((-118.40834 34.28671, -118.40755 34.2...</td>\n",
       "    </tr>\n",
       "    <tr>\n",
       "      <th>4</th>\n",
       "      <td>MISSION HILLS</td>\n",
       "      <td>96</td>\n",
       "      <td>POLYGON ((-118.47067 34.29432, -118.46554 34.2...</td>\n",
       "    </tr>\n",
       "    <tr>\n",
       "      <th>...</th>\n",
       "      <td>...</td>\n",
       "      <td>...</td>\n",
       "      <td>...</td>\n",
       "    </tr>\n",
       "    <tr>\n",
       "      <th>136</th>\n",
       "      <td>RESEDA RANCH</td>\n",
       "      <td>2</td>\n",
       "      <td>POLYGON ((-118.56227 34.21558, -118.56225 34.2...</td>\n",
       "    </tr>\n",
       "    <tr>\n",
       "      <th>137</th>\n",
       "      <td>HARBOR PINES</td>\n",
       "      <td>0</td>\n",
       "      <td>POLYGON ((-118.30778 33.77926, -118.30787 33.7...</td>\n",
       "    </tr>\n",
       "    <tr>\n",
       "      <th>138</th>\n",
       "      <td>SYCAMORE SQUARE</td>\n",
       "      <td>2</td>\n",
       "      <td>POLYGON ((-118.34584 34.05721, -118.34589 34.0...</td>\n",
       "    </tr>\n",
       "    <tr>\n",
       "      <th>139</th>\n",
       "      <td>BROOKSIDE</td>\n",
       "      <td>2</td>\n",
       "      <td>POLYGON ((-118.34062 34.05713, -118.33874 34.0...</td>\n",
       "    </tr>\n",
       "    <tr>\n",
       "      <th>140</th>\n",
       "      <td>VIEW HEIGHTS</td>\n",
       "      <td>4</td>\n",
       "      <td>POLYGON ((-118.35001 33.98167, -118.35001 33.9...</td>\n",
       "    </tr>\n",
       "  </tbody>\n",
       "</table>\n",
       "<p>141 rows × 3 columns</p>\n",
       "</div>"
      ],
      "text/plain": [
       "             location  deaths  \\\n",
       "0              SYLMAR     184   \n",
       "1       GRANADA HILLS     137   \n",
       "2        PORTER RANCH      23   \n",
       "3    LAKEVIEW TERRACE      30   \n",
       "4       MISSION HILLS      96   \n",
       "..                ...     ...   \n",
       "136      RESEDA RANCH       2   \n",
       "137      HARBOR PINES       0   \n",
       "138   SYCAMORE SQUARE       2   \n",
       "139         BROOKSIDE       2   \n",
       "140      VIEW HEIGHTS       4   \n",
       "\n",
       "                                              geometry  \n",
       "0    POLYGON ((-118.50655 34.33524, -118.50576 34.3...  \n",
       "1    POLYGON ((-118.54219 34.29860, -118.54084 34.2...  \n",
       "2    POLYGON ((-118.59618 34.27462, -118.59377 34.2...  \n",
       "3    POLYGON ((-118.40834 34.28671, -118.40755 34.2...  \n",
       "4    POLYGON ((-118.47067 34.29432, -118.46554 34.2...  \n",
       "..                                                 ...  \n",
       "136  POLYGON ((-118.56227 34.21558, -118.56225 34.2...  \n",
       "137  POLYGON ((-118.30778 33.77926, -118.30787 33.7...  \n",
       "138  POLYGON ((-118.34584 34.05721, -118.34589 34.0...  \n",
       "139  POLYGON ((-118.34062 34.05713, -118.33874 34.0...  \n",
       "140  POLYGON ((-118.35001 33.98167, -118.35001 33.9...  \n",
       "\n",
       "[141 rows x 3 columns]"
      ]
     },
     "execution_count": 5,
     "metadata": {},
     "output_type": "execute_result"
    }
   ],
   "source": [
    "covid19_trimmed = covid19[desired_columns].copy()\n",
    "covid19_trimmed"
   ]
  },
  {
   "cell_type": "markdown",
   "id": "de4c10f1-d5d1-418f-9aee-497c586f19ab",
   "metadata": {},
   "source": [
    "**Step 11:** I am now able to create a graph that will show me how many deaths there were per location based on the data set. "
   ]
  },
  {
   "cell_type": "code",
   "execution_count": 6,
   "id": "478a710a-8aa2-408b-9269-3359dcc2abac",
   "metadata": {},
   "outputs": [
    {
     "data": {
      "text/plain": [
       "<AxesSubplot:title={'center':'Number of Deaths per Location'}, xlabel='location'>"
      ]
     },
     "execution_count": 6,
     "metadata": {},
     "output_type": "execute_result"
    },
    {
     "data": {
      "image/png": "[encoded data removed]",
      "text/plain": [
       "<Figure size 1800x1008 with 1 Axes>"
      ]
     },
     "metadata": {
      "needs_background": "light"
     },
     "output_type": "display_data"
    }
   ],
   "source": [
    "covid19_trimmed.plot.bar(\n",
    "    figsize=(25,14), x = 'location', y = 'deaths', title = 'Number of Deaths per Location')"
   ]
  },
  {
   "cell_type": "markdown",
   "id": "36decba3-5fb4-46b2-bb9d-b51b03124839",
   "metadata": {},
   "source": [
    "## Filtering the Trimmed Data through Query"
   ]
  },
  {
   "cell_type": "markdown",
   "id": "3fce814c-18b6-4acc-882a-b2919ef7605f",
   "metadata": {},
   "source": [
    "**Step 12:** Now that I have a subset of the data that I am mostly interested in, I can filter the data even more to begin to focus on specific neighborhoods. I will filter the based on location and I will do this two times: once for Canoga Park and once for Los Feliz. This will allow me to compare the number of deaths between the two locations."
   ]
  },
  {
   "cell_type": "code",
   "execution_count": 7,
   "id": "2313450e-df31-4bb6-8dd5-8a4ecb4fd977",
   "metadata": {},
   "outputs": [
    {
     "data": {
      "text/html": [
       "<div>\n",
       "<style scoped>\n",
       "    .dataframe tbody tr th:only-of-type {\n",
       "        vertical-align: middle;\n",
       "    }\n",
       "\n",
       "    .dataframe tbody tr th {\n",
       "        vertical-align: top;\n",
       "    }\n",
       "\n",
       "    .dataframe thead th {\n",
       "        text-align: right;\n",
       "    }\n",
       "</style>\n",
       "<table border=\"1\" class=\"dataframe\">\n",
       "  <thead>\n",
       "    <tr style=\"text-align: right;\">\n",
       "      <th></th>\n",
       "      <th>location</th>\n",
       "      <th>deaths</th>\n",
       "      <th>geometry</th>\n",
       "    </tr>\n",
       "  </thead>\n",
       "  <tbody>\n",
       "    <tr>\n",
       "      <th>18</th>\n",
       "      <td>CANOGA PARK</td>\n",
       "      <td>116</td>\n",
       "      <td>POLYGON ((-118.58860 34.23548, -118.58837 34.2...</td>\n",
       "    </tr>\n",
       "  </tbody>\n",
       "</table>\n",
       "</div>"
      ],
      "text/plain": [
       "       location  deaths                                           geometry\n",
       "18  CANOGA PARK     116  POLYGON ((-118.58860 34.23548, -118.58837 34.2..."
      ]
     },
     "execution_count": 7,
     "metadata": {},
     "output_type": "execute_result"
    }
   ],
   "source": [
    "covid19_trimmed[covid19_trimmed.location == 'CANOGA PARK']"
   ]
  },
  {
   "cell_type": "markdown",
   "id": "10a913f2-2ccc-4846-9d80-9b12f19d122f",
   "metadata": {},
   "source": [
    "- I can see that there has been 116 covid related deaths in Canoga Park."
   ]
  },
  {
   "cell_type": "code",
   "execution_count": 8,
   "id": "5eb0ae71-a2d0-4471-b5cb-f518a566f6a1",
   "metadata": {},
   "outputs": [
    {
     "data": {
      "text/html": [
       "<div>\n",
       "<style scoped>\n",
       "    .dataframe tbody tr th:only-of-type {\n",
       "        vertical-align: middle;\n",
       "    }\n",
       "\n",
       "    .dataframe tbody tr th {\n",
       "        vertical-align: top;\n",
       "    }\n",
       "\n",
       "    .dataframe thead th {\n",
       "        text-align: right;\n",
       "    }\n",
       "</style>\n",
       "<table border=\"1\" class=\"dataframe\">\n",
       "  <thead>\n",
       "    <tr style=\"text-align: right;\">\n",
       "      <th></th>\n",
       "      <th>location</th>\n",
       "      <th>deaths</th>\n",
       "      <th>geometry</th>\n",
       "    </tr>\n",
       "  </thead>\n",
       "  <tbody>\n",
       "    <tr>\n",
       "      <th>29</th>\n",
       "      <td>LOS FELIZ</td>\n",
       "      <td>18</td>\n",
       "      <td>POLYGON ((-118.32892 34.15031, -118.32575 34.1...</td>\n",
       "    </tr>\n",
       "  </tbody>\n",
       "</table>\n",
       "</div>"
      ],
      "text/plain": [
       "     location  deaths                                           geometry\n",
       "29  LOS FELIZ      18  POLYGON ((-118.32892 34.15031, -118.32575 34.1..."
      ]
     },
     "execution_count": 8,
     "metadata": {},
     "output_type": "execute_result"
    }
   ],
   "source": [
    "covid19_trimmed[covid19_trimmed.location == 'LOS FELIZ']"
   ]
  },
  {
   "cell_type": "markdown",
   "id": "229ab86e-a80e-4602-8d64-87c8005db823",
   "metadata": {},
   "source": [
    "- In contrast, the Los Feliz neighborhood has only experienced 18 covid-19 related deaths."
   ]
  },
  {
   "cell_type": "markdown",
   "id": "1ec72f56-e7a6-4843-a181-17db87d6344e",
   "metadata": {},
   "source": [
    "## Findings"
   ]
  },
  {
   "cell_type": "markdown",
   "id": "f9d93180-ece6-40ae-af93-278afc23e8fc",
   "metadata": {},
   "source": [
    "Based on the data exploration and query that I have conducted with this data set, I can now see that several neighborhoods experienced more COVID-19 related deaths than others. In some cases the differences are extremely high. For example, Canoga Park had significantly more deaths than Los Feliz. There can be a number of factors that influence these numbers, but I simply wanted to see these differences and how big these differences were when comapring certain neighborhoods."
   ]
  }
 ],
 "metadata": {
  "kernelspec": {
   "display_name": "Python 3 (ipykernel)",
   "language": "python",
   "name": "python3"
  },
  "language_info": {
   "codemirror_mode": {
    "name": "ipython",
    "version": 3
   },
   "file_extension": ".py",
   "mimetype": "text/x-python",
   "name": "python",
   "nbconvert_exporter": "python",
   "pygments_lexer": "ipython3",
   "version": "3.9.6"
  }
 },
 "nbformat": 4,
 "nbformat_minor": 5
}
